{
  "metadata": {
    "kernelspec": {
      "name": "python",
      "display_name": "Python (Pyodide)",
      "language": "python"
    },
    "language_info": {
      "codemirror_mode": {
        "name": "python",
        "version": 3
      },
      "file_extension": ".py",
      "mimetype": "text/x-python",
      "name": "python",
      "nbconvert_exporter": "python",
      "pygments_lexer": "ipython3",
      "version": "3.8"
    }
  },
  "nbformat_minor": 4,
  "nbformat": 4,
  "cells": [
    {
      "cell_type": "code",
      "source": "import sympy as sp\nx,y=sp.symbols('x y')\nz =(x*2)y+(y*3) * sp.sin(x)\ndz_dx=sp.diff(z, x)\ndz_dy=sp.diff(z, y)\nprint(dz_dx,dz_dy)",
      "metadata": {
        "trusted": true
      },
      "outputs": [],
      "execution_count": null
    },
    {
      "cell_type": "code",
      "source": "#7\nstudents_records = {\n    2022: {\n        \"Branch 1\": {\n            11: {\"Name\": \"prabhas\", \"Marks\": {\"Maths\": 100, \"English\": 100}},\n            12: {\"Name\": \"jr.ntr\", \"Marks\": {\"Maths\": 90, \"English\": 95}},\n        },\n        \"Branch 2\": {\n            21: {\"Name\": \"mahesh\", \"Marks\": {\"Maths\": 95, \"English\": 75}},\n            22: {\"Name\": \"pawan kalyan\", \"Marks\": {\"Maths\": 65, \"English\": 50}},\n        },\n    },\n    2023: {\n        \"Branch 1\": {\n            31: {\"Name\": \"allu arjun\", \"Marks\": {\"Maths\": 44, \"English\": 55}},\n            32: {\"Name\": \"Ram charan\", \"Marks\": {\"Maths\": 8, \"English\": 7}},\n        },\n        \"Branch 2\": {\n            41: {\"Name\": \"nani\", \"Marks\": {\"Maths\": 75, \"English\": 88}},\n            42: {\"Name\": \"ram\", \"Marks\": {\"Maths\": 76, \"English\": 95}},\n        },\n    },\n    2024: {\n        \"Branch 1\": {\n            51: {\"Name\": \"alludu seenu\", \"Marks\": {\"Maths\": 99, \"English\": 91}},\n            52: {\"Name\": \"Vikram\", \"Marks\": {\"Maths\": 89, \"English\": 79}},\n        },\n        \"Branch 2\": {\n            61: {\"Name\": \"addu seenu\", \"Marks\": {\"Maths\": 94, \"English\": 86}},\n            62: {\"Name\": \"nek em kadhu\", \"Marks\": {\"Maths\": 87, \"English\": 93}},\n        },\n    },\n    2025: {\n        \"Branch 1\": {\n            71: {\"Name\": \"nak aiyedi\", \"Marks\": {\"Maths\": 97, \"English\": 90}},\n            72: {\"Name\": \"devadaa\", \"Marks\": {\"Maths\": 86, \"English\": 78}},\n        },\n        \"Branch 2\": {\n            81: {\"Name\": \"venky\", \"Marks\": {\"Maths\": 93, \"English\": 89}},\n            82: {\"Name\": \"gajjala\", \"Marks\": {\"Maths\": 84, \"English\": 96}},\n        },\n    },\n}\nprint(students_records[2022][\"Branch 1\"][11][\"Name\"])",
      "metadata": {
        "trusted": true
      },
      "outputs": [],
      "execution_count": null
    },
    {
      "cell_type": "code",
      "source": "\\#3\nimport numpy as np\nimport time\n\ndef pass_median(A):\n    n = len(A)\n    for i in range(n // 2 + 1):\n        max_i = i\n        for j in range(i + 1, n):\n            if A[j] > A[max_i]:\n                max_i = j\n        A[i], A[max_i] = A[max_i], A[i]\n    if n % 2 == 1:\n        return A[n // 2]\n    else:\n        return (A[n // 2 - 1] + A[n // 2]) / 2\n\ndef quickselect_median(A):\n    n = len(A)\n    if n % 2 == 1:\n        return quickselect(A, n // 2)\n    else:\n        return (quickselect(A, n // 2 - 1) + quickselect(A, n // 2)) / 2\n\ndef quickselect(A, k):\n    if len(A) == 1:\n        return A[0]\n    pivot_i = len(A)//2\n    pivot = A[pivot_i]\n    left = [x for i, x in enumerate(A) if x < pivot and i != pivot_i]\n    middle = [x for x in A if x == pivot]\n    right = [x for i, x in enumerate(A) if x > pivot and i != pivot_i]\n    if k < len(left):\n        return quickselect(left, k)\n    elif k < len(left) + len(middle):\n        return middle[0]\n    else:\n        return quickselect(right, k - len(left) - len(middle))\nA=[12,11,9,34,0,96]\n",
      "metadata": {
        "trusted": true
      },
      "outputs": [],
      "execution_count": null
    },
    {
      "cell_type": "code",
      "source": "#12\nimport numpy as np\n\narray_2d = np.array([[1, 2, 3], [4, 5, 6]])\n\nprint(\"2D Array:\")\nprint(array_2d)\n\narray_1d = np.array([10, 20, 30])\n\nprint(\"\\n1D Array:\")\nprint(array_1d)\n\nresult = array_2d + array_1d",
      "metadata": {
        "trusted": true
      },
      "outputs": [],
      "execution_count": null
    }
  ]
}